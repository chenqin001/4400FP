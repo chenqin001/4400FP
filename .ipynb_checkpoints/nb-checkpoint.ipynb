{
 "cells": [
  {
   "cell_type": "markdown",
   "id": "allied-paintball",
   "metadata": {},
   "source": [
    "# cs4400 final project\n",
    "this solution is using Bernoulli Naive Bayes to determine if two items are 0(not match) or 1(match)"
   ]
  },
  {
   "cell_type": "code",
   "execution_count": 11,
   "id": "naked-violence",
   "metadata": {},
   "outputs": [],
   "source": [
    "#%pip install pandas\n",
    "import numpy as np\n",
    "import pandas as pd\n",
    "from os.path import join\n",
    "from sklearn.linear_model import LogisticRegression\n",
    "from sklearn.naive_bayes import BernoulliNB"
   ]
  },
  {
   "cell_type": "code",
   "execution_count": 12,
   "id": "consistent-editor",
   "metadata": {},
   "outputs": [],
   "source": [
    "#read data \n",
    "ltable = pd.read_csv(join('data', \"ltable.csv\"))\n",
    "rtable = pd.read_csv(join('data', \"rtable.csv\"))\n",
    "train = pd.read_csv(join('data', \"train.csv\"))"
   ]
  },
  {
   "cell_type": "code",
   "execution_count": 13,
   "id": "empirical-pledge",
   "metadata": {},
   "outputs": [],
   "source": [
    "def levenshtein(seq1, seq2):\n",
    "    size_x = len(seq1) + 1\n",
    "    size_y = len(seq2) + 1\n",
    "    matrix = np.zeros ((size_x, size_y))\n",
    "    for x in range(size_x):\n",
    "        matrix [x, 0] = x\n",
    "    for y in range(size_y):\n",
    "        matrix [0, y] = y\n",
    "\n",
    "    for x in range(1, size_x):\n",
    "        for y in range(1, size_y):\n",
    "            if seq1[x-1] == seq2[y-1]:\n",
    "                matrix [x,y] = min(\n",
    "                    matrix[x-1, y] + 1,\n",
    "                    matrix[x-1, y-1],\n",
    "                    matrix[x, y-1] + 1\n",
    "                )\n",
    "            else:\n",
    "                matrix [x,y] = min(\n",
    "                    matrix[x-1,y] + 1,\n",
    "                    matrix[x-1,y-1] + 1,\n",
    "                    matrix[x,y-1] + 1\n",
    "                )\n",
    "    return (matrix[size_x - 1, size_y - 1])"
   ]
  },
  {
   "cell_type": "code",
   "execution_count": null,
   "id": "geological-constant",
   "metadata": {},
   "outputs": [],
   "source": [
    "# training \n",
    "x_train=[]\n",
    "y_train=[]\n",
    "for i in range(train.shape[0]):\n",
    "    ltable_id=train.loc[i][\"ltable_id\"]\n",
    "    rtable_id=train.loc[i][\"rtable_id\"]\n",
    "    label=int(train.loc[i][\"label\"])\n",
    "    left_item=ltable.loc[ltable_id]\n",
    "    right_item=rtable.loc[rtable_id]\n",
    "    \n",
    "    \n",
    "    sim_title=levenshtein(str(left_item[\"title\"]),str(right_item[\"title\"]))\n",
    "    sim_category=levenshtein(str(left_item[\"category\"]),str(right_item[\"category\"]))\n",
    "    \n",
    "    left_price=0 if np.isnan(left_item[\"price\"]) else float(left_item[\"price\"])\n",
    "    \n",
    "    right_price=0 if np.isnan(right_item[\"price\"]) else float(right_item[\"price\"])\n",
    "    sim_price=np.abs(left_price-right_price)/(left_price+0.001)\n",
    "    \n",
    "    x_train.append([sim_title,sim_category,sim_price])\n",
    "    y_train.append(label)"
   ]
  },
  {
   "cell_type": "code",
   "execution_count": null,
   "id": "constant-policy",
   "metadata": {},
   "outputs": [],
   "source": [
    "gnb = BernoulliNB()\n",
    "gnb.fit(x_train, y_train)"
   ]
  },
  {
   "cell_type": "code",
   "execution_count": null,
   "id": "governmental-impression",
   "metadata": {},
   "outputs": [],
   "source": [
    "#block by brand and model no \n",
    "ltable['brand'] = ltable['brand'].astype(str)\n",
    "rtable['brand'] = rtable['brand'].astype(str)\n",
    "\n",
    "brands_l = set(ltable[\"brand\"].values)\n",
    "brands_r = set(rtable[\"brand\"].values)\n",
    "brands = brands_l.union(brands_r)\n",
    "\n",
    "brand2ids_l = {b.lower(): [] for b in brands}\n",
    "brand2ids_r = {b.lower(): [] for b in brands}\n",
    "\n",
    "for i, x in ltable.iterrows():\n",
    "    brand2ids_l[x[\"brand\"].lower()].append(x[\"id\"])\n",
    "for i, x in rtable.iterrows():\n",
    "    brand2ids_r[x[\"brand\"].lower()].append(x[\"id\"])\n",
    "    \n",
    "candset = []\n",
    "output_pair=[]\n",
    "\n",
    "for brd in brands:\n",
    "    l_ids = brand2ids_l[brd]\n",
    "    r_ids = brand2ids_r[brd]\n",
    "    for i in range(len(l_ids)):\n",
    "        for j in range(len(r_ids)):\n",
    "            modelno_l=ltable.loc[l_ids[i]]['modelno']\n",
    "            modelno_r=rtable.loc[r_ids[j]]['modelno']\n",
    "            \n",
    "            modelno_l=str(modelno_l).lower()\n",
    "            modelno_r=str(modelno_r).lower()    \n",
    "            \n",
    "            if(modelno_l!='nan' and modelno_r!='nan' and modelno_l==modelno_r):\n",
    "                \n",
    "                # if brand and model no match, add it to the output set\n",
    "                output_pair.append([l_ids[i], r_ids[j]])\n",
    "            else:    \n",
    "                candset.append([l_ids[i], r_ids[j]])"
   ]
  },
  {
   "cell_type": "code",
   "execution_count": null,
   "id": "prospective-hundred",
   "metadata": {},
   "outputs": [],
   "source": [
    "#testing\n",
    "x_test=[]\n",
    "for ltable_id,rtable_id in candset:\n",
    "    left_item=ltable.loc[ltable_id]\n",
    "    right_item=rtable.loc[rtable_id]\n",
    "    #print(right_item)\n",
    "    \n",
    "    sim_title=levenshtein(str(left_item[\"title\"]),str(right_item[\"title\"]))\n",
    "    sim_category=levenshtein(str(left_item[\"category\"]),str(right_item[\"category\"]))\n",
    "    \n",
    "    left_price=0 if np.isnan(left_item[\"price\"]) else float(left_item[\"price\"])\n",
    "    \n",
    "    right_price=0 if np.isnan(right_item[\"price\"]) else float(right_item[\"price\"])\n",
    "    sim_price=np.abs(left_price-right_price)/(left_price+0.001)\n",
    "    \n",
    "    x_test.append([sim_title,sim_category,sim_price])"
   ]
  },
  {
   "cell_type": "code",
   "execution_count": null,
   "id": "metropolitan-throat",
   "metadata": {},
   "outputs": [],
   "source": [
    "y=gnb.predict(x_test)\n",
    "for i in range(len(y)):\n",
    "    #print(y[i])\n",
    "    if y[i]==1:\n",
    "        print(candset[i])\n",
    "        output_pair.append(candset[i])"
   ]
  },
  {
   "cell_type": "code",
   "execution_count": null,
   "id": "stuck-messaging",
   "metadata": {},
   "outputs": [],
   "source": [
    "output_pair=pd.DataFrame(output_pair)     \n",
    "output_pair = set(map(tuple, output_pair.values))\n",
    "#print(output_pair)\n",
    "output=pd.DataFrame(output_pair, columns=[\"ltable_id\", \"rtable_id\"])\n",
    "output.to_csv(\"output.csv\", index=False)"
   ]
  },
  {
   "cell_type": "code",
   "execution_count": null,
   "id": "banned-latino",
   "metadata": {},
   "outputs": [],
   "source": []
  },
  {
   "cell_type": "code",
   "execution_count": null,
   "id": "vietnamese-shame",
   "metadata": {},
   "outputs": [],
   "source": []
  }
 ],
 "metadata": {
  "kernelspec": {
   "display_name": "Python 3",
   "language": "python",
   "name": "python3"
  },
  "language_info": {
   "codemirror_mode": {
    "name": "ipython",
    "version": 3
   },
   "file_extension": ".py",
   "mimetype": "text/x-python",
   "name": "python",
   "nbconvert_exporter": "python",
   "pygments_lexer": "ipython3",
   "version": "3.9.1"
  }
 },
 "nbformat": 4,
 "nbformat_minor": 5
}
